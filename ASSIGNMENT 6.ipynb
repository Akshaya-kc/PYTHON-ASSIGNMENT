{
 "cells": [
  {
   "cell_type": "markdown",
   "id": "d6f62ca4-9eb5-49c4-b104-ae6f602ab1d5",
   "metadata": {},
   "source": [
    "1.Build a program to manage a university's course catalog. You want to define a base class Course that has the following properties: course_code: a      string representing the course code (e.g., \"CS101\") course_name: a string representing the course name (e.g., \"Introduction to Computer Science\")       credit_hours: an integer representing the credit hours for the course (e.g., 3) You also want to define two subclasses CoreCourse and ElectiveCourse,   which inherit from the Course class. CoreCourse should have an additional property required_for_major which is a boolean representing whether the       course is required for a particular major. ElectiveCourse should have an additional property elective_type which is a string representing the type of   elective (e.g., \"general\", \"technical\", \"liberal arts\"). "
   ]
  },
  {
   "cell_type": "code",
   "execution_count": 8,
   "id": "c8a5446c-38f7-4ec5-a9bb-e8c2a2f1c3f3",
   "metadata": {},
   "outputs": [
    {
     "name": "stdout",
     "output_type": "stream",
     "text": [
      "Core Course Details:\n",
      "Course Code: CS101\n",
      "Course Name: Introduction to CS\n",
      "Credit Hours: 3\n",
      "Required for Major: True\n",
      "\n",
      "Elective Course Details:\n",
      "Course Code: ART01\n",
      "Course Name: Painting Basics\n",
      "Credit Hours: 2\n",
      "Elective Type: liberal arts\n"
     ]
    }
   ],
   "source": [
    "class Course:\n",
    "    def __init__(self, course_code, course_name, credit_hours):\n",
    "        self.course_code = course_code\n",
    "        self.course_name = course_name\n",
    "        self.credit_hours = credit_hours\n",
    "\n",
    "    def display_info(self):\n",
    "        print(f\"Course Code: {self.course_code}\")\n",
    "        print(f\"Course Name: {self.course_name}\")\n",
    "        print(f\"Credit Hours: {self.credit_hours}\")\n",
    "\n",
    "\n",
    "class CoreCourse(Course):\n",
    "    def __init__(self, course_code, course_name, credit_hours, required_for_major):\n",
    "        super().__init__(course_code, course_name, credit_hours)\n",
    "        self.required_for_major = required_for_major\n",
    "\n",
    "    def display_info(self):\n",
    "        super().display_info()\n",
    "        print(f\"Required for Major: {self.required_for_major}\")\n",
    "\n",
    "\n",
    "class ElectiveCourse(Course):\n",
    "    def __init__(self, course_code, course_name, credit_hours, elective_type):\n",
    "        super().__init__(course_code, course_name, credit_hours)\n",
    "        self.elective_type = elective_type\n",
    "\n",
    "    def display_info(self):\n",
    "        super().display_info()\n",
    "        print(f\"Elective Type: {self.elective_type}\")\n",
    "        \n",
    "core = CoreCourse(\"CS101\", \"Introduction to CS\", 3, True)\n",
    "elective = ElectiveCourse(\"ART01\", \"Painting Basics\", 2, \"liberal arts\")\n",
    "\n",
    "print(\"Core Course Details:\")\n",
    "core.display_info()\n",
    "\n",
    "print(\"\\nElective Course Details:\")\n",
    "elective.display_info()      "
   ]
  },
  {
   "cell_type": "markdown",
   "id": "40498b95-00a2-4547-b027-607350fb3f11",
   "metadata": {},
   "source": [
    "2.Create a Python module named employee that contains a class Employee with attributes name, salary and methods get_name() and get_salary().\n",
    " Write a program to use this module to create an object of the Employee class and display its name and salary."
   ]
  },
  {
   "cell_type": "code",
   "execution_count": null,
   "id": "21afa779-87cf-4078-a972-dec361bf09c1",
   "metadata": {},
   "outputs": [],
   "source": [
    "#employe.py\n",
    "class Employee:\n",
    "    def __init__(self, name, salary):\n",
    "        self.name = name\n",
    "        self.salary = salary\n",
    "\n",
    "    def get_name(self):\n",
    "        return self.name\n",
    "\n",
    "    def get_salary(self):\n",
    "        return self.salary\n",
    "\n",
    "\n",
    "\n"
   ]
  },
  {
   "cell_type": "code",
   "execution_count": 13,
   "id": "d2c88849-4107-4419-988e-df6e4bbd87de",
   "metadata": {},
   "outputs": [],
   "source": [
    " from employe import Employee\n",
    "\n"
   ]
  },
  {
   "cell_type": "code",
   "execution_count": 15,
   "id": "1c7bcd3a-1fc5-4327-b0a7-0229599fc4d6",
   "metadata": {},
   "outputs": [
    {
     "name": "stdout",
     "output_type": "stream",
     "text": [
      "Employee Name: Alice\n",
      "Employee Salary: 50000\n"
     ]
    }
   ],
   "source": [
    "# Create an employee object\n",
    "emp = Employee(\"Alice\", 50000)\n",
    "\n",
    "# Display name and salary\n",
    "print(\"Employee Name:\", emp.get_name())\n",
    "print(\"Employee Salary:\", emp.get_salary())"
   ]
  }
 ],
 "metadata": {
  "kernelspec": {
   "display_name": "Python [conda env:anaconda3] *",
   "language": "python",
   "name": "conda-env-anaconda3-py"
  },
  "language_info": {
   "codemirror_mode": {
    "name": "ipython",
    "version": 3
   },
   "file_extension": ".py",
   "mimetype": "text/x-python",
   "name": "python",
   "nbconvert_exporter": "python",
   "pygments_lexer": "ipython3",
   "version": "3.12.7"
  }
 },
 "nbformat": 4,
 "nbformat_minor": 5
}
